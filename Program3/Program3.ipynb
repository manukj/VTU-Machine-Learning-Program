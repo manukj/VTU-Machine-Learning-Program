{
  "nbformat": 4,
  "nbformat_minor": 0,
  "metadata": {
    "colab": {
      "name": "Program3.ipynb",
      "provenance": [],
      "include_colab_link": true
    },
    "kernelspec": {
      "name": "python3",
      "display_name": "Python 3"
    }
  },
  "cells": [
    {
      "cell_type": "markdown",
      "metadata": {
        "id": "view-in-github",
        "colab_type": "text"
      },
      "source": [
        "<a href=\"https://colab.research.google.com/github/manukj/Machine-Learning/blob/master/Program3.ipynb\" target=\"_parent\"><img src=\"https://colab.research.google.com/assets/colab-badge.svg\" alt=\"Open In Colab\"/></a>"
      ]
    },
    {
      "cell_type": "code",
      "metadata": {
        "id": "HHcOhW7Nciva",
        "colab_type": "code",
        "colab": {}
      },
      "source": [
        "class Node:\n",
        "  def __init__(self,attribute):\n",
        "    self.attribute = attribute\n",
        "    self.children = []\n",
        "    self.answer = \"\"\n",
        "  def __str__(self):\n",
        "    return self.attribute"
      ],
      "execution_count": 0,
      "outputs": []
    },
    {
      "cell_type": "code",
      "metadata": {
        "id": "CyLgSZYGiB3D",
        "colab_type": "code",
        "colab": {}
      },
      "source": [
        "def subtable(data,col,delete):\n",
        "  dict = {}\n",
        "  items = np.unique(data[:,col])\n",
        "  count = np.zeros((items.shape[0],1))\n",
        "  for x in range(items.shape[0]):\n",
        "    for y in range(data.shape[0]):\n",
        "      if(data[y,col] == items[x]):\n",
        "        count[x] += 1\n",
        "  for x in range(items.shape[0]):\n",
        "    dict[x] = np.empty((int(count[x]),data.shape[1]))\n",
        "    pos = 0\n",
        "    for y in range(data.shape[0]):\n",
        "      if(data[y,col] == items[x]):\n",
        "        dict[x] = data[y]\n",
        "        pos += 1\n",
        "    if delete:\n",
        "      np.delete(data[items[x]],col,1)\n",
        "  return items,dict"
      ],
      "execution_count": 0,
      "outputs": []
    },
    {
      "cell_type": "code",
      "metadata": {
        "id": "5YwuLtjqfoha",
        "colab_type": "code",
        "colab": {}
      },
      "source": [
        "def entropy(s):\n",
        "  #get the number of items\n",
        "  items = np.unique(s)\n",
        "  #if there is only one items then the entropy is 0\n",
        "  if(items.size == 1):\n",
        "    return 0\n",
        "  counts = np.zeros((items.shape[0],1))\n",
        "  sums = 0\n",
        "  for x in range(items.shape[0]):\n",
        "    counts[x] = sum(s == items[x]) / s.size\n",
        "  for count in counts:\n",
        "    sums += -count * math.log(count,2)\n",
        "  return sums"
      ],
      "execution_count": 0,
      "outputs": []
    },
    {
      "cell_type": "code",
      "metadata": {
        "id": "J68XquraeVHc",
        "colab_type": "code",
        "colab": {}
      },
      "source": [
        "def gain_ratio(data,col):\n",
        "  # get that perticular items and itemsdata \n",
        "  items,dict = subtables(data,col,delete=False)\n",
        "  total_size = data.shape[0]\n",
        "  entropies = np.zeros((items.shape[0],1))\n",
        "  total_entropies = entropy(data[:,-1])\n",
        "  for x in range(items.shape[0]):\n",
        "    ratio = dict[items[x]].shape[0] / total_size\n",
        "    entropies[x] = ratio * entropy(dict[items[x]][:,-1])\n",
        "  for x in range(items.shape[0]):\n",
        "    total_entropies -= entropies[x]\n",
        "  return total_entropies"
      ],
      "execution_count": 0,
      "outputs": []
    },
    {
      "cell_type": "code",
      "metadata": {
        "id": "_r41xPlOcVjL",
        "colab_type": "code",
        "colab": {}
      },
      "source": [
        "def create_node(data,metadata):\n",
        "  if(np.unique(data[:,-1]).shape[0] == 1):\n",
        "    node = Node('')\n",
        "    node.answer = np.unique(data[:,-1])[0]\n",
        "    return node\n",
        "  #ge the gain of all the attribute\n",
        "  gains = np.zeros((data.shape[1] - 1,1))\n",
        "  for col in range(data.shape[1]-1):\n",
        "    gains[col] = gain_ratio(data,col)\n",
        "  #find the max gain i,e root node\n",
        "  split = np.argmax(gains)\n",
        "  node=Node(metadata[split])\n",
        "  #delete that node from the metadata\n",
        "  metadata = np.delete(metadata,split,0)\n",
        "  #get the subitems of that nodes and create the child nodes of them \n",
        "  items,dict = subtables(data,split,delete=True)\n",
        "  for x in range(items.shape[0]):\n",
        "    child_node = create_node(dict[items[x]],metadata)\n",
        "    node.children.append((items[x],child_node))\n",
        "  return node"
      ],
      "execution_count": 0,
      "outputs": []
    },
    {
      "cell_type": "code",
      "metadata": {
        "id": "4O8ePnKvbNyY",
        "colab_type": "code",
        "outputId": "fd0630e0-c6b1-40ea-9852-0c10704ab69a",
        "colab": {
          "base_uri": "https://localhost:8080/",
          "height": 35
        }
      },
      "source": [
        "import numpy as np\n",
        "import csv\n",
        "with open('lab3.csv') as csvFile:\n",
        "    examples=[list(line) for line in csv.reader(csvFile)]\n",
        "traindata=examples[1:]\n",
        "metadata=examples[0]\n",
        "data=np.array(traindata)\n",
        "\n",
        "node = create_node(data,metadata)\n",
        "entropy(data[:,-1])"
      ],
      "execution_count": 0,
      "outputs": [
        {
          "output_type": "execute_result",
          "data": {
            "text/plain": [
              "array([0.94028596])"
            ]
          },
          "metadata": {
            "tags": []
          },
          "execution_count": 88
        }
      ]
    },
    {
      "cell_type": "code",
      "metadata": {
        "id": "ueLGzHOZlxoR",
        "colab_type": "code",
        "colab": {}
      },
      "source": [
        "def empty(size):\n",
        "    S=\"\"\n",
        "    for x in range(size):\n",
        "        S+=\" \"\n",
        "    return S\n",
        "def print_tree(node,level):\n",
        "    if node.answer!=\"\":\n",
        "        print(empty(level),node.answer)\n",
        "        return\n",
        "    print(empty(level),node.attribute)\n",
        "    for value,n in node.children:\n",
        "        print(empty(level+1),value)\n",
        "        print_tree(n,level+2)"
      ],
      "execution_count": 0,
      "outputs": []
    },
    {
      "cell_type": "code",
      "metadata": {
        "id": "RUIlAj4Zl0oo",
        "colab_type": "code",
        "outputId": "bff6bb00-a38b-42c0-823a-5bfe86d19801",
        "colab": {
          "base_uri": "https://localhost:8080/",
          "height": 277
        }
      },
      "source": [
        "print_tree(node,0)"
      ],
      "execution_count": 0,
      "outputs": [
        {
          "output_type": "stream",
          "text": [
            " outlook\n",
            "  overcast\n",
            "   b'yes'\n",
            "  rain\n",
            "   wind\n",
            "    b'strong'\n",
            "     b'no'\n",
            "    b'weak'\n",
            "     b'yes'\n",
            "  sunny\n",
            "   humidity\n",
            "    b'high'\n",
            "     b'no'\n",
            "    b'normal'\n",
            "     b'yes'\n"
          ],
          "name": "stdout"
        }
      ]
    }
  ]
}