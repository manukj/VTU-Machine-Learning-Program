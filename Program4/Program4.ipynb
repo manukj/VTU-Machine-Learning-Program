{
  "nbformat": 4,
  "nbformat_minor": 0,
  "metadata": {
    "colab": {
      "name": "Program4.ipynb",
      "provenance": [],
      "include_colab_link": true
    },
    "kernelspec": {
      "name": "python3",
      "display_name": "Python 3"
    }
  },
  "cells": [
    {
      "cell_type": "markdown",
      "metadata": {
        "id": "view-in-github",
        "colab_type": "text"
      },
      "source": [
        "<a href=\"https://colab.research.google.com/github/manukj/Machine-Learning/blob/master/Program4.ipynb\" target=\"_parent\"><img src=\"https://colab.research.google.com/assets/colab-badge.svg\" alt=\"Open In Colab\"/></a>"
      ]
    },
    {
      "cell_type": "code",
      "metadata": {
        "id": "N3EWbJDtGDdu",
        "colab_type": "code",
        "colab": {}
      },
      "source": [
        "import numpy as np\n",
        "\n",
        "x = np.array(([2,3],[1,2],[5,6]))\n",
        "y = np.array(([56],[40],[80]))\n",
        "\n",
        "x=x/np.amax(x)\n",
        "y = y / 100\n",
        "\n",
        "iL = 2\n",
        "hL = 3\n",
        "oL = 1\n",
        "\n",
        "iter = 7000\n",
        "lr = 0.1\n",
        "\n",
        "wh = np.random.uniform(size=(iL,hL))\n",
        "bh = np.random.uniform(size=(1,hL))\n",
        "wout = np.random.uniform(size=(hL,oL))\n",
        "bout = np.random.uniform(size=(1,oL))"
      ],
      "execution_count": 0,
      "outputs": []
    },
    {
      "cell_type": "code",
      "metadata": {
        "id": "FOGOd47xC48x",
        "colab_type": "code",
        "colab": {}
      },
      "source": [
        "def sigmoid(x):\n",
        "    return 1/(1+np.exp(-x))\n",
        "def derivatives_sigmoid(x):\n",
        "    return x*(1-x)"
      ],
      "execution_count": 0,
      "outputs": []
    },
    {
      "cell_type": "code",
      "metadata": {
        "id": "d5PQaM7xDKJf",
        "colab_type": "code",
        "outputId": "afc40525-2767-4ee8-e748-5cb1b806e679",
        "colab": {
          "base_uri": "https://localhost:8080/",
          "height": 121
        }
      },
      "source": [
        "for i in range(iter):\n",
        "  Hout = sigmoid( np.dot(x,wh) + bh)\n",
        "  Oout = sigmoid( np.dot(Hout,wout) + bout)\n",
        "\n",
        "  Eo = y - Oout\n",
        "\n",
        "  O_grad = derv_sigmoid(Oout)\n",
        "  d_O_grad = Eo * O_grad\n",
        "\n",
        "  Eh = d_O_grad.dot(wout.T)\n",
        "\n",
        "  H_grad = derv_sigmoid(Hout)\n",
        "  d_H_grad = Eh * H_grad\n",
        "\n",
        "  wh += x.T.dot(d_H_grad) * lr\n",
        "  wout += Hout.T.dot(d_O_grad) * lr\n",
        "\n",
        "print(y)\n",
        "print(Oout) "
      ],
      "execution_count": 48,
      "outputs": [
        {
          "output_type": "stream",
          "text": [
            "[[0.56]\n",
            " [0.4 ]\n",
            " [0.56]]\n",
            "[[0.49067315]\n",
            " [0.46232178]\n",
            " [0.56985038]]\n"
          ],
          "name": "stdout"
        }
      ]
    }
  ]
}