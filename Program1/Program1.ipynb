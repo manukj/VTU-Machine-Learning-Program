{
  "nbformat": 4,
  "nbformat_minor": 0,
  "metadata": {
    "colab": {
      "name": "Program1.ipynb",
      "provenance": []
    },
    "kernelspec": {
      "name": "python3",
      "display_name": "Python 3"
    }
  },
  "cells": [
    {
      "cell_type": "code",
      "metadata": {
        "id": "ggQdpWLa8Vlx",
        "colab_type": "code",
        "outputId": "224bf61c-9ce9-452d-eb71-05d5cd7d7a89",
        "colab": {
          "base_uri": "https://localhost:8080/",
          "height": 35
        }
      },
      "source": [
        "import csv\n",
        "with open(\"lab1.csv\") as f:\n",
        "  data = list(csv.reader(f))\n",
        "  h = ['0'] * (len(list(data)[0]) - 1)\n",
        "  for row in data:\n",
        "    if('yes' in row):\n",
        "      for i in range(len(row)-1):\n",
        "        if(h[i] != row[i] and h[i] == '0'):\n",
        "          h[i] = row[i]\n",
        "        elif (h[i] != row[i] and h[i] != '0'):\n",
        "          h[i] = '?'\n",
        "        else:\n",
        "          pass\n",
        "  print(h)\n"
      ],
      "execution_count": 0,
      "outputs": [
        {
          "output_type": "stream",
          "text": [
            "['sunny', 'warm', '?', 'strong', '?', '?']\n"
          ],
          "name": "stdout"
        }
      ]
    }
  ]
}