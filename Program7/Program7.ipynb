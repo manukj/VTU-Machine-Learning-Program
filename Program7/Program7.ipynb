{
  "nbformat": 4,
  "nbformat_minor": 0,
  "metadata": {
    "colab": {
      "name": "Program7.ipynb",
      "provenance": [],
      "collapsed_sections": [],
      "include_colab_link": true
    },
    "kernelspec": {
      "name": "python3",
      "display_name": "Python 3"
    }
  },
  "cells": [
    {
      "cell_type": "markdown",
      "metadata": {
        "id": "view-in-github",
        "colab_type": "text"
      },
      "source": [
        "<a href=\"https://colab.research.google.com/github/manukj/Machine-Learning/blob/master/Program7.ipynb\" target=\"_parent\"><img src=\"https://colab.research.google.com/assets/colab-badge.svg\" alt=\"Open In Colab\"/></a>"
      ]
    },
    {
      "cell_type": "markdown",
      "metadata": {
        "id": "5HWj35EP3rHT",
        "colab_type": "text"
      },
      "source": [
        "## Write a program to construct aBayesian network considering medical data. Use this model to demonstrate the diagnosis of heart patients using standard Heart Disease Data Set. You can use Java/Python ML library classes/API."
      ]
    },
    {
      "cell_type": "markdown",
      "metadata": {
        "id": "rR70qgSp47aA",
        "colab_type": "text"
      },
      "source": [
        "in case the package isn't installed "
      ]
    },
    {
      "cell_type": "code",
      "metadata": {
        "id": "qzBG-qeo46qF",
        "colab_type": "code",
        "outputId": "7a1f687d-9987-4039-be21-995140d062a3",
        "colab": {
          "base_uri": "https://localhost:8080/",
          "height": 121
        }
      },
      "source": [
        "!pip install bayespy\n",
        "!pip install colorama"
      ],
      "execution_count": 1,
      "outputs": [
        {
          "output_type": "stream",
          "text": [
            "Requirement already satisfied: bayespy in /usr/local/lib/python3.6/dist-packages (0.5.18)\n",
            "Requirement already satisfied: scipy>=0.13.0 in /usr/local/lib/python3.6/dist-packages (from bayespy) (1.3.2)\n",
            "Requirement already satisfied: h5py in /usr/local/lib/python3.6/dist-packages (from bayespy) (2.8.0)\n",
            "Requirement already satisfied: numpy>=1.10.0 in /usr/local/lib/python3.6/dist-packages (from bayespy) (1.17.4)\n",
            "Requirement already satisfied: six in /usr/local/lib/python3.6/dist-packages (from h5py->bayespy) (1.12.0)\n",
            "Requirement already satisfied: colorama in /usr/local/lib/python3.6/dist-packages (0.4.1)\n"
          ],
          "name": "stdout"
        }
      ]
    },
    {
      "cell_type": "markdown",
      "metadata": {
        "id": "fls0YLmB4bU6",
        "colab_type": "text"
      },
      "source": [
        "\n",
        "\n",
        "1.  Packages\n",
        "\n"
      ]
    },
    {
      "cell_type": "code",
      "metadata": {
        "id": "yzeizlrf3n65",
        "colab_type": "code",
        "colab": {}
      },
      "source": [
        "import bayespy as bp\n",
        "import numpy as np\n",
        "import csv \n",
        "from colorama import init\n",
        "from colorama import Fore, Back, Style\n",
        "init()"
      ],
      "execution_count": 0,
      "outputs": []
    },
    {
      "cell_type": "markdown",
      "metadata": {
        "id": "ChhaXpbM65oc",
        "colab_type": "text"
      },
      "source": [
        "# getting the data ready for the model"
      ]
    },
    {
      "cell_type": "markdown",
      "metadata": {
        "id": "e8I2Gph_5pvT",
        "colab_type": "text"
      },
      "source": [
        "2. a) defining the paramter Eumerator value"
      ]
    },
    {
      "cell_type": "code",
      "metadata": {
        "id": "Uy-H-Eqg5aHs",
        "colab_type": "code",
        "colab": {}
      },
      "source": [
        "#Age\n",
        "ageEnum = {'SuperSeniorCitizen':0, 'SeniorCitizen':1, 'MiddleAged':2, 'Youth':3, 'Teen':4}\n",
        "# Gender\n",
        "genderEnum = {'Male':0, 'Female':1}\n",
        "# FamilyHistory\t\n",
        "familyHistoryEnum = {'Yes':0, 'No':1}\n",
        "# Diet(Calorie Intake)\n",
        "dietEnum = {'High':0, 'Medium':1, 'Low':2}\n",
        "# LifeStyle\n",
        "lifeStyleEnum = {'Athlete':0, 'Active':1, 'Moderate':2, 'Sedetary':3}\t\n",
        "# Cholesterol\n",
        "cholesterolEnum = {'High':0, 'BorderLine':1, 'Normal':2}\n",
        "# HeartDisease\n",
        "heartDiseaseEnum = {'Yes':0, 'No':1}"
      ],
      "execution_count": 0,
      "outputs": []
    },
    {
      "cell_type": "markdown",
      "metadata": {
        "id": "A3B3ZxiV_cOh",
        "colab_type": "text"
      },
      "source": [
        "2. b) read heartDisease data from csv file and append the above data above paramater to create the dataset "
      ]
    },
    {
      "cell_type": "code",
      "metadata": {
        "id": "zxZsa-HBADF4",
        "colab_type": "code",
        "colab": {}
      },
      "source": [
        "with open('heart_disease_data.csv') as csvfile:\n",
        "    lines = csv.reader(csvfile)\n",
        "    dataset = list(lines)\n",
        "    data = []\n",
        "    for x in dataset:\n",
        "      data.append([ageEnum[x[0]],genderEnum[x[1]],familyHistoryEnum[x[2]],dietEnum[x[3]],lifeStyleEnum[x[4]],cholesterolEnum[x[5]],heartDiseaseEnum[x[6]]])\n",
        "data = np.array(data)\n",
        "N = len(data)"
      ],
      "execution_count": 0,
      "outputs": []
    },
    {
      "cell_type": "markdown",
      "metadata": {
        "id": "44HyeI8-6t_E",
        "colab_type": "text"
      },
      "source": [
        "# create the model"
      ]
    },
    {
      "cell_type": "markdown",
      "metadata": {
        "id": "aUTVAIKN05ev",
        "colab_type": "text"
      },
      "source": [
        "Group assignment probabilities"
      ]
    },
    {
      "cell_type": "code",
      "metadata": {
        "id": "h9-FisJhw1-U",
        "colab_type": "code",
        "colab": {
          "base_uri": "https://localhost:8080/",
          "height": 72
        },
        "outputId": "4f3a2273-b068-4666-8216-7789a23d4421"
      },
      "source": [
        "# node is to define the model , and Dirichlet returns a randam probabilistic value\n",
        "# the above two line are the like a formula for Bayesian \n",
        "p_age = bp.nodes.Dirichlet(1.0*np.ones(5))\n",
        "# Group assignments for nodes\n",
        "age = bp.nodes.Categorical(p_age, plates=(N,))\n",
        "age.observe(data[:,0])\n",
        "\n",
        "p_gender = bp.nodes.Dirichlet(1.0*np.ones(2))\n",
        "gender = bp.nodes.Categorical(p_gender, plates=(N,))\n",
        "gender.observe(data[:,1])\n",
        "\n",
        "p_familyhistory = bp.nodes.Dirichlet(1.0*np.ones(2))\n",
        "familyhistory = bp.nodes.Categorical(p_familyhistory, plates=(N,))\n",
        "familyhistory.observe(data[:,2])\n",
        "\n",
        "p_diet = bp.nodes.Dirichlet(1.0*np.ones(3))\n",
        "diet = bp.nodes.Categorical(p_diet, plates=(N,))\n",
        "diet.observe(data[:,3])\n",
        "\n",
        "p_lifestyle = bp.nodes.Dirichlet(1.0*np.ones(4))\n",
        "lifestyle = bp.nodes.Categorical(p_lifestyle, plates=(N,))\n",
        "lifestyle.observe(data[:,4])\n",
        "\n",
        "p_cholesterol = bp.nodes.Dirichlet(1.0*np.ones(3))\n",
        "cholesterol = bp.nodes.Categorical(p_cholesterol, plates=(N,))\n",
        "cholesterol.observe(data[:,5])"
      ],
      "execution_count": 5,
      "outputs": [
        {
          "output_type": "stream",
          "text": [
            "/usr/local/lib/python3.6/dist-packages/bayespy/inference/vmp/nodes/categorical.py:107: FutureWarning: Using a non-tuple sequence for multidimensional indexing is deprecated; use `arr[tuple(seq)]` instead of `arr[seq]`. In the future this will be interpreted as an array index, `arr[np.array(seq)]`, which will result either in an error or a different result.\n",
            "  u0[[np.arange(np.size(x)), np.ravel(x)]] = 1\n"
          ],
          "name": "stderr"
        }
      ]
    },
    {
      "cell_type": "markdown",
      "metadata": {
        "id": "WP330Nul2XqB",
        "colab_type": "text"
      },
      "source": [
        "Prepare nodes and establish edges"
      ]
    },
    {
      "cell_type": "code",
      "metadata": {
        "id": "C5zVCraO3YZ2",
        "colab_type": "code",
        "colab": {
          "base_uri": "https://localhost:8080/",
          "height": 72
        },
        "outputId": "220adf19-4d46-49b2-db9a-c23f21afbd2a"
      },
      "source": [
        "p_heartdisease = bp.nodes.Dirichlet(np.ones(2), plates=(5, 2, 2, 3, 4, 3))\n",
        "heartdisease = bp.nodes.MultiMixture([age, gender, familyhistory, diet, lifestyle, cholesterol], bp.nodes.Categorical, p_heartdisease)\n",
        "heartdisease.observe(data[:,6])\n",
        "p_heartdisease.update()"
      ],
      "execution_count": 6,
      "outputs": [
        {
          "output_type": "stream",
          "text": [
            "/usr/local/lib/python3.6/dist-packages/bayespy/inference/vmp/nodes/categorical.py:107: FutureWarning: Using a non-tuple sequence for multidimensional indexing is deprecated; use `arr[tuple(seq)]` instead of `arr[seq]`. In the future this will be interpreted as an array index, `arr[np.array(seq)]`, which will result either in an error or a different result.\n",
            "  u0[[np.arange(np.size(x)), np.ravel(x)]] = 1\n"
          ],
          "name": "stderr"
        }
      ]
    },
    {
      "cell_type": "markdown",
      "metadata": {
        "id": "7lNM9zyi6YrO",
        "colab_type": "text"
      },
      "source": [
        "# now to test the model "
      ]
    },
    {
      "cell_type": "code",
      "metadata": {
        "id": "oh2jasAX3sIe",
        "colab_type": "code",
        "colab": {
          "base_uri": "https://localhost:8080/",
          "height": 245
        },
        "outputId": "0ef914d9-81d7-4bb3-d687-6a7da24d129d"
      },
      "source": [
        "\n",
        "m = 0\n",
        "while m == 0:\n",
        "    print(\"\\n\")\n",
        "    res = bp.nodes.MultiMixture([int(input('Enter Age: ' + str(ageEnum))), int(input('Enter Gender: ' + str(genderEnum))), int(input('Enter FamilyHistory: ' + str(familyHistoryEnum))), int(input('Enter dietEnum: ' + str(dietEnum))), int(input('Enter LifeStyle: ' + str(lifeStyleEnum))), int(input('Enter Cholesterol: ' + str(cholesterolEnum)))], bp.nodes.Categorical, p_heartdisease).get_moments()[0][heartDiseaseEnum['Yes']]\n",
        "    print(\"Probability(HeartDisease) = \" +  str(res))\n",
        "    #print(Style.RESET_ALL)\n",
        "    m = int(input(\"Enter for Continue:0, Exit :1  \"))\n"
      ],
      "execution_count": 9,
      "outputs": [
        {
          "output_type": "stream",
          "text": [
            "\n",
            "\n",
            "Enter Age: {'SuperSeniorCitizen': 0, 'SeniorCitizen': 1, 'MiddleAged': 2, 'Youth': 3, 'Teen': 4}0\n",
            "Enter Gender: {'Male': 0, 'Female': 1}0\n",
            "Enter FamilyHistory: {'Yes': 0, 'No': 1}0\n",
            "Enter dietEnum: {'High': 0, 'Medium': 1, 'Low': 2}1\n",
            "Enter LifeStyle: {'Athlete': 0, 'Active': 1, 'Moderate': 2, 'Sedetary': 3}3\n",
            "Enter Cholesterol: {'High': 0, 'BorderLine': 1, 'Normal': 2}2\n"
          ],
          "name": "stdout"
        },
        {
          "output_type": "stream",
          "text": [
            "/usr/local/lib/python3.6/dist-packages/bayespy/inference/vmp/nodes/categorical.py:43: FutureWarning: Using a non-tuple sequence for multidimensional indexing is deprecated; use `arr[tuple(seq)]` instead of `arr[seq]`. In the future this will be interpreted as an array index, `arr[np.array(seq)]`, which will result either in an error or a different result.\n",
            "  u0[[np.arange(np.size(x)), np.ravel(x)]] = 1\n"
          ],
          "name": "stderr"
        },
        {
          "output_type": "stream",
          "text": [
            "Probability(HeartDisease) = 0.5\n",
            "Enter for Continue:0, Exit :1  1\n"
          ],
          "name": "stdout"
        }
      ]
    },
    {
      "cell_type": "markdown",
      "metadata": {
        "id": "Lry9sp9h6j1G",
        "colab_type": "text"
      },
      "source": [
        "for the above give input the probablity of a person having heart disease is 0.5"
      ]
    }
  ]
}