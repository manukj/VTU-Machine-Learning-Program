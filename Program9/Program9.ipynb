{
  "nbformat": 4,
  "nbformat_minor": 0,
  "metadata": {
    "colab": {
      "name": "Program9.ipynb",
      "provenance": [],
      "include_colab_link": true
    },
    "kernelspec": {
      "name": "python3",
      "display_name": "Python 3"
    }
  },
  "cells": [
    {
      "cell_type": "markdown",
      "metadata": {
        "id": "view-in-github",
        "colab_type": "text"
      },
      "source": [
        "<a href=\"https://colab.research.google.com/github/manukj/Machine-Learning/blob/master/Program9.ipynb\" target=\"_parent\"><img src=\"https://colab.research.google.com/assets/colab-badge.svg\" alt=\"Open In Colab\"/></a>"
      ]
    },
    {
      "cell_type": "markdown",
      "metadata": {
        "id": "wwWIQyaB2aFD",
        "colab_type": "text"
      },
      "source": [
        "# Get the Dataset"
      ]
    },
    {
      "cell_type": "code",
      "metadata": {
        "id": "VxGtyGI0nCNQ",
        "colab_type": "code",
        "colab": {}
      },
      "source": [
        "from sklearn import datasets\n",
        "iris = datasets.load_iris()\n",
        "data = iris.data\n",
        "tar = iris.target\n"
      ],
      "execution_count": 0,
      "outputs": []
    },
    {
      "cell_type": "markdown",
      "metadata": {
        "id": "J5q4b_Zd2ekr",
        "colab_type": "text"
      },
      "source": [
        "# split the data into test and train"
      ]
    },
    {
      "cell_type": "code",
      "metadata": {
        "id": "q3HRGIqeLFQ-",
        "colab_type": "code",
        "colab": {}
      },
      "source": [
        "from sklearn.model_selection import train_test_split\n",
        "xtrain,xtest,ytrain,ytes = train_test_split(data,tar,test_size = 0.3)"
      ],
      "execution_count": 0,
      "outputs": []
    },
    {
      "cell_type": "markdown",
      "metadata": {
        "id": "lp0wK8ua2mVA",
        "colab_type": "text"
      },
      "source": [
        "#create the model"
      ]
    },
    {
      "cell_type": "code",
      "metadata": {
        "id": "ylsmt9cs95Sr",
        "colab_type": "code",
        "colab": {
          "base_uri": "https://localhost:8080/",
          "height": 69
        },
        "outputId": "d85413e5-0df5-4b75-e934-76b583bbe2f5"
      },
      "source": [
        "from sklearn.neighbors import KNeighborsClassifier\n",
        "k = KNeighborsClassifier()\n",
        "k.fit(xtrain,ytrain)"
      ],
      "execution_count": 12,
      "outputs": [
        {
          "output_type": "execute_result",
          "data": {
            "text/plain": [
              "KNeighborsClassifier(algorithm='auto', leaf_size=30, metric='minkowski',\n",
              "                     metric_params=None, n_jobs=None, n_neighbors=5, p=2,\n",
              "                     weights='uniform')"
            ]
          },
          "metadata": {
            "tags": []
          },
          "execution_count": 12
        }
      ]
    },
    {
      "cell_type": "markdown",
      "metadata": {
        "id": "AWGirM6f2pX8",
        "colab_type": "text"
      },
      "source": [
        "#test the model"
      ]
    },
    {
      "cell_type": "code",
      "metadata": {
        "id": "WVMYYC6E-R7c",
        "colab_type": "code",
        "colab": {
          "base_uri": "https://localhost:8080/",
          "height": 69
        },
        "outputId": "8d181bd1-6804-4446-e08a-7b9d19ed4980"
      },
      "source": [
        "ypred = k.predict(xtest)\n",
        "from sklearn.metrics import confusion_matrix,classification_report,accuracy_score\n",
        "print(confusion_matrix(ypred,ytes))"
      ],
      "execution_count": 13,
      "outputs": [
        {
          "output_type": "stream",
          "text": [
            "[[12  0  0]\n",
            " [ 0 16  1]\n",
            " [ 0  0 16]]\n"
          ],
          "name": "stdout"
        }
      ]
    }
  ]
}