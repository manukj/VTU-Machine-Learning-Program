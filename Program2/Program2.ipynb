{
  "nbformat": 4,
  "nbformat_minor": 0,
  "metadata": {
    "colab": {
      "name": "Program2.ipynb",
      "provenance": [],
      "include_colab_link": true
    },
    "kernelspec": {
      "name": "python3",
      "display_name": "Python 3"
    }
  },
  "cells": [
    {
      "cell_type": "markdown",
      "metadata": {
        "id": "view-in-github",
        "colab_type": "text"
      },
      "source": [
        "<a href=\"https://colab.research.google.com/github/manukj/Machine-Learning/blob/master/Program2.ipynb\" target=\"_parent\"><img src=\"https://colab.research.google.com/assets/colab-badge.svg\" alt=\"Open In Colab\"/></a>"
      ]
    },
    {
      "cell_type": "code",
      "metadata": {
        "id": "rQZGCQ6RK3oZ",
        "colab_type": "code",
        "colab": {}
      },
      "source": [
        "import csv\n",
        "with open(\"lab2.csv\") as f:\n",
        "  examples = list(csv.reader(f))\n",
        "examples = examples[1:]"
      ],
      "execution_count": 0,
      "outputs": []
    },
    {
      "cell_type": "code",
      "metadata": {
        "id": "pHo9YjBFZkik",
        "colab_type": "code",
        "colab": {}
      },
      "source": [
        "def g_O(n):\n",
        "  return ('?',)* n\n",
        "\n",
        "def s_O(n):\n",
        "  return ('O',)* n"
      ],
      "execution_count": 0,
      "outputs": []
    },
    {
      "cell_type": "code",
      "metadata": {
        "id": "skUExAwgZyrs",
        "colab_type": "code",
        "colab": {}
      },
      "source": [
        "def more_generalize(h1,h2):\n",
        "  m_g = []\n",
        "  for x,y in zip(h1,h2):\n",
        "    mg = x == '?' or (x != 'O' and (x ==y or y == 'O'))\n",
        "    m_g.append(mg)\n",
        "  return all(m_g)"
      ],
      "execution_count": 0,
      "outputs": []
    },
    {
      "cell_type": "code",
      "metadata": {
        "id": "Q_WhfrGaaNjE",
        "colab_type": "code",
        "colab": {}
      },
      "source": [
        "def fullfills(e,h):\n",
        "  return more_generalize(h,e)"
      ],
      "execution_count": 0,
      "outputs": []
    },
    {
      "cell_type": "code",
      "metadata": {
        "id": "Mv0nCb18aUpH",
        "colab_type": "code",
        "colab": {}
      },
      "source": [
        "def get_domains(examples):\n",
        "  domains = [set() for i in examples[0]]\n",
        "  for x in examples:\n",
        "    for i,xi in enumerate(x):\n",
        "      domains[i].add(xi)\n",
        "  return [list(sorted(x)) for x in domains]"
      ],
      "execution_count": 0,
      "outputs": []
    },
    {
      "cell_type": "code",
      "metadata": {
        "id": "6eO7Ipq2cGsb",
        "colab_type": "code",
        "colab": {}
      },
      "source": [
        "def min_generalize(h,x):\n",
        "  h_new = list(h)\n",
        "  for i in range(len(h)):\n",
        "    if not fullfills(x[i],h[i]):\n",
        "      h_new[i] = '?' if h[i] != 'O' else x[i]\n",
        "  return [tuple(h_new)]"
      ],
      "execution_count": 0,
      "outputs": []
    },
    {
      "cell_type": "code",
      "metadata": {
        "id": "zsMTCfKRazM8",
        "colab_type": "code",
        "colab": {}
      },
      "source": [
        "def generalize_S(x,G,S):\n",
        "  S_prev = list(S)\n",
        "  for s in S_prev:\n",
        "    if not fullfills(x,s):\n",
        "      S.remove(s)\n",
        "      Sminus = min_generalize(s,x)\n",
        "      S.update([\n",
        "                h for h in Sminus\n",
        "                if any(more_generalize(g,h) for g in G)\n",
        "                ])\n",
        "      S.difference_update([\n",
        "                           h for h in S \n",
        "                           if any(more_generalize(h,h1) for h1 in S if h1 != h)\n",
        "      ])\n",
        "  return S"
      ],
      "execution_count": 0,
      "outputs": []
    },
    {
      "cell_type": "code",
      "metadata": {
        "id": "FpMN8mD8dbHO",
        "colab_type": "code",
        "colab": {}
      },
      "source": [
        "def min_specialize(h,domain,x):\n",
        "  results = []\n",
        "  for i in range(len(h)):\n",
        "        if h[i] == \"?\":\n",
        "            for val in domains[i]:\n",
        "                if x[i] != val:\n",
        "                    h_new = h[:i] + (val,) + h[i+1:]            \n",
        "        elif h[i]!= \"O\":\n",
        "            h_new = h[:i] + ('O',) + h[i+1:]\n",
        "        results.append(h_new)\n",
        "  return results"
      ],
      "execution_count": 0,
      "outputs": []
    },
    {
      "cell_type": "code",
      "metadata": {
        "id": "t_wJWNQCdgfP",
        "colab_type": "code",
        "colab": {}
      },
      "source": [
        "def specialize_G(x,domains,G,S):\n",
        "  G_prev = list(G)\n",
        "  for g in G_prev:\n",
        "          if fullfills(x, g):\n",
        "            G.remove(g)\n",
        "            Gminus = min_specialize(g, domains, x)\n",
        "                   ## keep only specializations that have a conuterpart in S\n",
        "            G.update([h for h in Gminus if any([more_generalize(h, s)\n",
        "                                                for s in S])])\n",
        "            ## remove hypotheses less general than any other in G\n",
        "            G.difference_update([h for h in G if\n",
        "                                 any([more_generalize(g1, h)\n",
        "                                      for g1 in G if h != g1])])\n",
        "\n",
        "  return G"
      ],
      "execution_count": 0,
      "outputs": []
    },
    {
      "cell_type": "code",
      "metadata": {
        "id": "KdYhA_0vf2fq",
        "colab_type": "code",
        "colab": {
          "base_uri": "https://localhost:8080/",
          "height": 453
        },
        "outputId": "1d3637e1-4af4-42fe-ee9b-7888e5f57ad7"
      },
      "source": [
        "def candidate_elimination(examples):\n",
        "    domains = get_domains(examples)[:-1]\n",
        "    G = set([g_O(len(domains))])\n",
        "    S = set([s_O(len(domains))])\n",
        "    i = 0\n",
        "    print(\"\\n G[{0}]:\".format(i), G)\n",
        "    print(\"\\n S[{0}]:\".format(i), S)\n",
        "    for xcx in examples:\n",
        "        i = i + 1\n",
        "        x, cx = xcx[:-1], xcx[-1]  # Splitting data into attributes and decisions\n",
        "        if cx == 'Y':  # x is positive example\n",
        "            G = {g for g in G if fullfills(x, g)}\n",
        "            S = generalize_S(x, G, S)\n",
        "        else:  # x is negative example\n",
        "            S = {s for s in S if not fullfills(x, s)}\n",
        "            G = specialize_G(x, domains, G, S)\n",
        "        print(\"\\n G[{0}]:\".format(i), G)\n",
        "        print(\"\\n S[{0}]:\".format(i), S)\n",
        "    return\n",
        "candidate_elimination(examples)"
      ],
      "execution_count": 112,
      "outputs": [
        {
          "output_type": "stream",
          "text": [
            "\n",
            " G[0]: {('?', '?', '?', '?', '?')}\n",
            "\n",
            " S[0]: {('O', 'O', 'O', 'O', 'O')}\n",
            "\n",
            " G[1]: {('?', '?', 'white', '?', '?'), ('?', '?', '?', '?', 'sports'), ('usa', '?', '?', '?', '?'), ('?', 'toyota', '?', '?', '?'), ('?', '?', '?', '1990', '?')}\n",
            "\n",
            " S[1]: {('O', 'O', 'O', 'O', 'O')}\n",
            "\n",
            " G[2]: {('?', 'toyota', '?', '?', 'economy'), ('?', '?', 'white', '?', '?'), ('?', 'honda', '?', '?', 'sports'), ('usa', '?', '?', '?', '?'), ('?', '?', '?', '1990', '?')}\n",
            "\n",
            " S[2]: {('O', 'O', 'O', 'O', 'O')}\n",
            "\n",
            " G[3]: {('?', '?', 'white', '?', '?'), ('?', 'honda', '?', '?', 'sports'), ('?', '?', '?', '1990', 'sports'), ('usa', '?', '?', '?', '?'), ('?', 'honda', '?', '1990', '?'), ('?', 'toyota', '?', '1980', 'economy')}\n",
            "\n",
            " S[3]: {('O', 'O', 'O', 'O', 'O')}\n",
            "\n",
            " G[4]: {('usa', '?', '?', '?', 'sports'), ('?', '?', 'white', '?', '?'), ('?', 'honda', '?', '?', 'sports'), ('?', '?', '?', '1990', 'sports'), ('usa', '?', '?', '1990', '?'), ('?', 'honda', '?', '1990', '?'), ('?', 'toyota', '?', '1980', 'economy'), ('usa', 'toyota', '?', '?', '?')}\n",
            "\n",
            " S[4]: {('O', 'O', 'O', 'O', 'O')}\n",
            "\n",
            " G[5]: {('usa', '?', '?', '?', 'sports'), ('?', '?', 'white', '1990', '?'), ('?', 'honda', '?', '?', 'sports'), ('?', '?', 'white', '?', 'sports'), ('?', '?', '?', '1990', 'sports'), ('usa', '?', 'white', '?', '?'), ('usa', '?', '?', '1990', '?'), ('?', 'honda', '?', '1990', '?'), ('?', 'toyota', '?', '1980', 'economy'), ('usa', 'toyota', '?', '?', '?'), ('?', 'toyota', 'white', '?', '?')}\n",
            "\n",
            " S[5]: {('O', 'O', 'O', 'O', 'O')}\n"
          ],
          "name": "stdout"
        }
      ]
    }
  ]
}