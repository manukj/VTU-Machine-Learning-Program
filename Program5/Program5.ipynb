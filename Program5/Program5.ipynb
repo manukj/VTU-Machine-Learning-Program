{
  "nbformat": 4,
  "nbformat_minor": 0,
  "metadata": {
    "colab": {
      "name": "Program5.ipynb",
      "provenance": [],
      "include_colab_link": true
    },
    "kernelspec": {
      "name": "python3",
      "display_name": "Python 3"
    }
  },
  "cells": [
    {
      "cell_type": "markdown",
      "metadata": {
        "id": "view-in-github",
        "colab_type": "text"
      },
      "source": [
        "<a href=\"https://colab.research.google.com/github/manukj/Machine-Learning/blob/master/Program5.ipynb\" target=\"_parent\"><img src=\"https://colab.research.google.com/assets/colab-badge.svg\" alt=\"Open In Colab\"/></a>"
      ]
    },
    {
      "cell_type": "code",
      "metadata": {
        "id": "HVYqEJEMqnsC",
        "colab_type": "code",
        "colab": {}
      },
      "source": [
        "import math\n",
        "import csv\n",
        "def load_data(filename):\n",
        "  with open(filename) as f:\n",
        "    dataset = list(csv.reader(f))\n",
        "  for i in range(len(dataset)):\n",
        "    dataset[i] = [float(x) for x in dataset[i]]\n",
        "  return dataset"
      ],
      "execution_count": 0,
      "outputs": []
    },
    {
      "cell_type": "code",
      "metadata": {
        "id": "E1XdkQ9P8crL",
        "colab_type": "code",
        "colab": {}
      },
      "source": [
        "def split_data(data,sp):\n",
        "  train_size = int(sp*len(data))\n",
        "  copy = data\n",
        "  i = 0\n",
        "  train = []\n",
        "  while(len(train) < train_size):\n",
        "    train.append(copy.pop(i))\n",
        "  return [train,copy]"
      ],
      "execution_count": 0,
      "outputs": []
    },
    {
      "cell_type": "code",
      "metadata": {
        "id": "DMoqybRH_ipe",
        "colab_type": "code",
        "colab": {}
      },
      "source": [
        "def safe_div(x,y):\n",
        "  if(y == 0):\n",
        "    return 0\n",
        "  return x / y"
      ],
      "execution_count": 0,
      "outputs": []
    },
    {
      "cell_type": "code",
      "metadata": {
        "id": "uL4YzwHb-2kK",
        "colab_type": "code",
        "colab": {}
      },
      "source": [
        "def mean(data):\n",
        "  return safe_div(sum(data),len(data))"
      ],
      "execution_count": 0,
      "outputs": []
    },
    {
      "cell_type": "code",
      "metadata": {
        "id": "OeCNG3-V_Ap0",
        "colab_type": "code",
        "colab": {}
      },
      "source": [
        "def stdev(data):\n",
        "  avg = mean(data)\n",
        "  variance = safe_div( sum( math.pow( (x - avg) , 2) for x in data ) ,len(data) )\n",
        "  return math.sqrt(variance)"
      ],
      "execution_count": 0,
      "outputs": []
    },
    {
      "cell_type": "code",
      "metadata": {
        "id": "bo_XHjWX-j7l",
        "colab_type": "code",
        "colab": {}
      },
      "source": [
        "def summarize(data):\n",
        "  summary = [(mean(attr),stdev(attr)) for attr in zip(*data)]\n",
        "  del summary[-1]\n",
        "  return summary"
      ],
      "execution_count": 0,
      "outputs": []
    },
    {
      "cell_type": "code",
      "metadata": {
        "id": "rKUvZGkM9pjn",
        "colab_type": "code",
        "colab": {}
      },
      "source": [
        "def seperate_by_class(dataset):\n",
        "   separated= {}\n",
        "   for i in range(len(dataset)):\n",
        "         vector = dataset[i]\n",
        "         if(vector[-1] not in separated):\n",
        "            separated[vector[-1]] = []\n",
        "         separated[vector[-1]].append(vector)\n",
        "   return separated"
      ],
      "execution_count": 0,
      "outputs": []
    },
    {
      "cell_type": "code",
      "metadata": {
        "id": "QbzK19Vm9hF-",
        "colab_type": "code",
        "colab": {}
      },
      "source": [
        "def summarize_by_class(data):\n",
        "  separated = seperate_by_class(dataset);\n",
        "  summaries = {}\n",
        "  for classValue, instances in separated.items():\n",
        "     summaries[classValue] = summarize(instances)\n",
        "  return summaries"
      ],
      "execution_count": 0,
      "outputs": []
    },
    {
      "cell_type": "code",
      "metadata": {
        "id": "sc0RX0Jx9Gm7",
        "colab_type": "code",
        "colab": {
          "base_uri": "https://localhost:8080/",
          "height": 121
        },
        "outputId": "de146ab7-96a1-46d1-8955-e94ddeed4c5b"
      },
      "source": [
        "data = load_data(\"lab5.csv\")\n",
        "train,test = split_data(data,0.5)\n",
        "print(len(train),len(test))\n",
        "summaries = summarizeByClass(train)\n",
        "summaries"
      ],
      "execution_count": 326,
      "outputs": [
        {
          "output_type": "stream",
          "text": [
            "7 7\n"
          ],
          "name": "stdout"
        },
        {
          "output_type": "execute_result",
          "data": {
            "text/plain": [
              "{5.0: [(1.6666666666666667, 0.9428090415820634),\n",
              "  (1.6666666666666667, 0.9428090415820634),\n",
              "  (1.3333333333333333, 0.4714045207910317),\n",
              "  (1.6666666666666667, 0.4714045207910317)],\n",
              " 10.0: [(2.5, 0.5), (2.25, 0.82915619758885), (1.5, 0.5), (1.5, 0.5)]}"
            ]
          },
          "metadata": {
            "tags": []
          },
          "execution_count": 326
        }
      ]
    },
    {
      "cell_type": "code",
      "metadata": {
        "id": "EgpUq4_DLtAD",
        "colab_type": "code",
        "colab": {}
      },
      "source": [
        "def calculate_Probabilities(x,mean,sd):\n",
        "  e = math.exp(-(safe_div(math.pow(x-mean,2) , 2 * math.pow(sd,2))))\n",
        "  final = safe_div(1,math.sqrt(2*math.pi)*sd)* e\n",
        "  return final"
      ],
      "execution_count": 0,
      "outputs": []
    },
    {
      "cell_type": "code",
      "metadata": {
        "id": "RsQscuFgKnQL",
        "colab_type": "code",
        "colab": {}
      },
      "source": [
        "def calculate_class_Probabilities(summaries,instance):\n",
        "  probabilities = {}\n",
        "  for CN,meanSd in summaries.items():\n",
        "    probabilities[CN] = 1\n",
        "    for i in range(len(meanSd)):\n",
        "      mean,sd = meanSd[i]\n",
        "      x = instance[i]\n",
        "      probabilities[CN] *= calculate_Probabilities(x,mean,sd)\n",
        "  return probabilities"
      ],
      "execution_count": 0,
      "outputs": []
    },
    {
      "cell_type": "code",
      "metadata": {
        "id": "awXMtFxlKDMl",
        "colab_type": "code",
        "colab": {}
      },
      "source": [
        "def predict(summaries,instance):\n",
        "  probabilities = calculate_class_Probabilities(summaries,instance)\n",
        "  bestLabel,bestProb = None,-1\n",
        "  for label,prob in probabilities.items():\n",
        "    if(bestLabel is None or bestProb < prob):\n",
        "      bestLabel = label\n",
        "      bestProb = prob\n",
        "  return bestLabel"
      ],
      "execution_count": 0,
      "outputs": []
    },
    {
      "cell_type": "code",
      "metadata": {
        "id": "khxxtxALJhd4",
        "colab_type": "code",
        "colab": {}
      },
      "source": [
        "def getPrediction(summaries,test):\n",
        "  prediction = []\n",
        "  for i in range(len(test)):\n",
        "    result = predict(summaries,test[i])\n",
        "    prediction.append(result)\n",
        "  return prediction"
      ],
      "execution_count": 0,
      "outputs": []
    },
    {
      "cell_type": "code",
      "metadata": {
        "id": "RMYVs1vrJHs6",
        "colab_type": "code",
        "colab": {
          "base_uri": "https://localhost:8080/",
          "height": 52
        },
        "outputId": "36bde80b-fbbd-4e39-9e09-288a690b3f56"
      },
      "source": [
        "import numpy as np\n",
        "prediction = getPrediction(summaries,test)\n",
        "test = np.array(test)\n",
        "actual = test[:,-1]\n",
        "\n",
        "print(actual)\n",
        "print(prediction)"
      ],
      "execution_count": 331,
      "outputs": [
        {
          "output_type": "stream",
          "text": [
            "[ 5. 10. 10. 10. 10. 10.  5.]\n",
            "[5.0, 5.0, 10.0, 5.0, 5.0, 10.0, 10.0]\n"
          ],
          "name": "stdout"
        }
      ]
    },
    {
      "cell_type": "code",
      "metadata": {
        "id": "s4J0oR5FPCZw",
        "colab_type": "code",
        "colab": {}
      },
      "source": [
        "def getAccuracy(testSet, predictions):\n",
        "   correct = 0\n",
        "   for i in range(len(testSet)):\n",
        "      if testSet[i][-1] == predictions[i]:\n",
        "        correct += 1\n",
        "   return safe_div(correct,float(len(testSet))) * 100.0"
      ],
      "execution_count": 0,
      "outputs": []
    },
    {
      "cell_type": "code",
      "metadata": {
        "id": "cLaEGR6DPDty",
        "colab_type": "code",
        "colab": {
          "base_uri": "https://localhost:8080/",
          "height": 35
        },
        "outputId": "1a95a663-ac22-4c10-b92e-aa519293445b"
      },
      "source": [
        "print(getAccuracy(test,prediction))"
      ],
      "execution_count": 333,
      "outputs": [
        {
          "output_type": "stream",
          "text": [
            "42.857142857142854\n"
          ],
          "name": "stdout"
        }
      ]
    }
  ]
}